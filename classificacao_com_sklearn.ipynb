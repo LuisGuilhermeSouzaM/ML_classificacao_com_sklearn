{
  "nbformat": 4,
  "nbformat_minor": 0,
  "metadata": {
    "colab": {
      "provenance": [],
      "authorship_tag": "ABX9TyMteN6AtANmd6vQQY3rkBjE",
      "include_colab_link": true
    },
    "kernelspec": {
      "name": "python3",
      "display_name": "Python 3"
    },
    "language_info": {
      "name": "python"
    }
  },
  "cells": [
    {
      "cell_type": "markdown",
      "metadata": {
        "id": "view-in-github",
        "colab_type": "text"
      },
      "source": [
        "<a href=\"https://colab.research.google.com/github/LuisGuilhermeSouzaM/ML_classificacao_com_sklearn/blob/main/classificacao_com_sklearn.ipynb\" target=\"_parent\"><img src=\"https://colab.research.google.com/assets/colab-badge.svg\" alt=\"Open In Colab\"/></a>"
      ]
    },
    {
      "cell_type": "code",
      "execution_count": 24,
      "metadata": {
        "id": "gCuji5RJuNhM"
      },
      "outputs": [],
      "source": [
        "# features (1 sim, 0 não)\n",
        "# pelo longo?\n",
        "# perna curta?\n",
        "# faz auau?\n",
        "porco1 = [0, 1, 0]\n",
        "porco2 = [0, 1, 1]\n",
        "porco3 = [1, 1, 0]\n",
        "\n",
        "cachorro1 = [0, 1, 1]\n",
        "cachorro2 = [1, 0, 1]\n",
        "cachorro3 = [1, 1, 1]\n",
        "\n",
        "train_x = [porco1, porco2, porco3, cachorro1, cachorro2, cachorro3]\n",
        "train_y = [1,1,1,0,0,0]"
      ]
    },
    {
      "cell_type": "code",
      "source": [
        "from sklearn.svm import LinearSVC\n",
        "\n",
        "model = LinearSVC()\n",
        "model.fit(train_x, train_y)"
      ],
      "metadata": {
        "colab": {
          "base_uri": "https://localhost:8080/"
        },
        "id": "RPSKf4_ButaV",
        "outputId": "198b70a7-76b4-4562-858b-c8a86b5887db"
      },
      "execution_count": 25,
      "outputs": [
        {
          "output_type": "execute_result",
          "data": {
            "text/plain": [
              "LinearSVC()"
            ]
          },
          "metadata": {},
          "execution_count": 25
        }
      ]
    },
    {
      "cell_type": "code",
      "source": [
        "animal_misterioso = [1,1,1]\n",
        "model.predict([animal_misterioso])"
      ],
      "metadata": {
        "colab": {
          "base_uri": "https://localhost:8080/"
        },
        "id": "K-MrglcqvS2m",
        "outputId": "ccbb199b-ed46-45ee-e92a-208d8eb7a3ae"
      },
      "execution_count": 26,
      "outputs": [
        {
          "output_type": "execute_result",
          "data": {
            "text/plain": [
              "array([0])"
            ]
          },
          "metadata": {},
          "execution_count": 26
        }
      ]
    },
    {
      "cell_type": "code",
      "source": [
        "misterio1 = [1, 1, 1]\n",
        "misterio2 = [1, 1, 0]\n",
        "misterio3 = [0, 1, 1]\n",
        "\n",
        "teste_x = [misterio1, misterio2, misterio3]\n",
        "teste_y = [0, 1, 1]\n"
      ],
      "metadata": {
        "id": "Q98a3exhvd0w"
      },
      "execution_count": 27,
      "outputs": []
    },
    {
      "cell_type": "code",
      "source": [
        "previsoes = model.predict(teste_x)"
      ],
      "metadata": {
        "id": "I6IoQT0fwATd"
      },
      "execution_count": 28,
      "outputs": []
    },
    {
      "cell_type": "code",
      "source": [
        "corretos = (previsoes == teste_y).sum()\n",
        "total = len(teste_x)\n",
        "taxa_de_acerto = corretos / total\n",
        "print(\"Taxa de acerto: %.2f\" % (taxa_de_acerto * 100))"
      ],
      "metadata": {
        "colab": {
          "base_uri": "https://localhost:8080/"
        },
        "id": "REo4m079wXU4",
        "outputId": "94f20ede-1a5b-42c9-8049-3eb4a7bf9907"
      },
      "execution_count": 29,
      "outputs": [
        {
          "output_type": "stream",
          "name": "stdout",
          "text": [
            "Taxa de acerto: 66.67\n"
          ]
        }
      ]
    },
    {
      "cell_type": "code",
      "source": [
        "from sklearn.metrics import accuracy_score\n",
        "\n",
        "taxa_de_acerto = accuracy_score(teste_y, previsoes)\n",
        "print(\"Taxa de acerto: %.2f\" % (taxa_de_acerto * 100))"
      ],
      "metadata": {
        "colab": {
          "base_uri": "https://localhost:8080/"
        },
        "id": "6BV3NxLVwoU3",
        "outputId": "45b91b98-1940-492e-a849-16dce117a7a7"
      },
      "execution_count": 31,
      "outputs": [
        {
          "output_type": "stream",
          "name": "stdout",
          "text": [
            "Taxa de acerto: 66.67\n"
          ]
        }
      ]
    },
    {
      "cell_type": "code",
      "source": [],
      "metadata": {
        "id": "UvTaD6rHwqFW"
      },
      "execution_count": 30,
      "outputs": []
    }
  ]
}